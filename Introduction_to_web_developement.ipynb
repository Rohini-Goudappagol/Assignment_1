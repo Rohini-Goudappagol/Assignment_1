{
  "nbformat": 4,
  "nbformat_minor": 0,
  "metadata": {
    "colab": {
      "provenance": []
    },
    "kernelspec": {
      "name": "python3",
      "display_name": "Python 3"
    },
    "language_info": {
      "name": "python"
    }
  },
  "cells": [
    {
      "cell_type": "code",
      "execution_count": null,
      "metadata": {
        "id": "d7B77M5XZliX"
      },
      "outputs": [],
      "source": []
    },
    {
      "cell_type": "markdown",
      "source": [
        "1. Explain the main components of client-server architecture and their functions\n",
        "   - - client : It is a process that capaqble of making new requests.\n",
        "     - server :   it can be any machine or a process running on a machine that\n",
        "       is capable of accepting requests process them and send response to the clients.\n",
        "     - Requests/Response : clients send requests / servers responds to that\n",
        "       requests with data.\n",
        "     - Statelessness: Each request from a client to a server is independent."
      ],
      "metadata": {
        "id": "HP7nCzFFaQW8"
      }
    },
    {
      "cell_type": "markdown",
      "source": [
        "2.  Discuss the various career paths available after completing a web development course.\n",
        "  -  - Front-End Developer: Focuses on user interface and visual aspects.\n",
        "     - Back-End Developer: Manages server-side logic, databases, and  \n",
        "       application integration.\n",
        "     - Full-Stack Developer: Skilled in both front-end and back-end development.\n",
        "     - Web Designer: Specializes in design and layout of websites.\n",
        "     - Web Administrator: Manages web servers and ensures website performance\n",
        "      and security.\n",
        "   "
      ],
      "metadata": {
        "id": "qW0yOzZIc4kq"
      }
    },
    {
      "cell_type": "markdown",
      "source": [
        "3. Describe the role of a web browser's developer tools in web development.\n",
        "     - - Browsers like Chrome and Firefox with built-in developer tools.\n",
        "       - Allow inspection of HTML/CSS, debugging of JavaScript.\n",
        "       - Monitor network requests and analyze performance."
      ],
      "metadata": {
        "id": "E4eXO6D9eC5t"
      }
    },
    {
      "cell_type": "markdown",
      "source": [
        "4. What are the advantages of using a Version Control System like Git in a development project.\n",
        "   - - Tracks changes to files over time.\n",
        "     - Enables collaboration among multiple developers.\n",
        "     - Provides features like branching, merging, version history.\n",
        "     - Ensures efficient management of changes."
      ],
      "metadata": {
        "id": "m_TckRf-eyAU"
      }
    },
    {
      "cell_type": "markdown",
      "source": [
        "5. Compare and contrast a text editor and an IDE, highlighting their key features and uses.\n",
        "  - - Text editor is a simple tool for writing and editing text, while IDE is more comprehensive tool that inclues a text editor , along with tools for building, debugging, and managing software projects.\n",
        "    - Text editor is lightweight and fast where the IDE is slower and more resourse inclusive.\n",
        "    - IDE provides more features thn text editor and makes coding easy.\n",
        "    - ex for IDE : Eclipse, Intellij, VS code etc\n",
        "    - ex for editor : Notepad, Wordpad, Sublime Text etc\n"
      ],
      "metadata": {
        "id": "Nseojp6ffNvQ"
      }
    },
    {
      "cell_type": "markdown",
      "source": [],
      "metadata": {
        "id": "K9CAR5TbcnLf"
      }
    },
    {
      "cell_type": "markdown",
      "source": [],
      "metadata": {
        "id": "wXJQjVvKcdYM"
      }
    }
  ]
}